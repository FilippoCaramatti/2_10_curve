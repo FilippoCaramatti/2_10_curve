{
 "cells": [
  {
   "cell_type": "code",
   "execution_count": 1,
   "metadata": {},
   "outputs": [],
   "source": [
    "import pandas as pd\n",
    "import numpy as np\n",
    "from fredapi import Fred\n",
    "fred = Fred(api_key='32cc4243ebbaed5bafa9edee3b5bc4b5')\n",
    "import seaborn as sns\n",
    "import matplotlib.pyplot as plt"
   ]
  },
  {
   "cell_type": "code",
   "execution_count": 2,
   "metadata": {},
   "outputs": [],
   "source": [
    "sp500 = pd.read_csv('SP500.csv', parse_dates=['DATE'], index_col='DATE')\n",
    "gdp = pd.read_csv('GDPC1.csv', parse_dates=['DATE'], index_col='DATE')\n",
    "two_ten = pd.read_csv('10-2.csv', parse_dates=['DATE'], index_col='DATE')\n",
    "\n",
    "\n",
    "sp500.replace('.', np.nan, inplace=True)\n",
    "sp500.dropna(axis=0, inplace=True)\n",
    "\n",
    "gdp.replace('.', np.nan, inplace=True)\n",
    "gdp.dropna(axis=0, inplace=True)\n",
    "\n",
    "two_ten.replace('.', np.nan, inplace=True)\n",
    "two_ten.dropna(axis=0, inplace=True)"
   ]
  },
  {
   "cell_type": "code",
   "execution_count": 3,
   "metadata": {},
   "outputs": [],
   "source": [
    "data = pd.DataFrame(index=pd.date_range('1977-01-31', '2023-02-17'))\n",
    "data['sp500'] = np.nan\n",
    "data['gdp'] = np.nan\n",
    "data['2-10'] = np.nan"
   ]
  },
  {
   "cell_type": "code",
   "execution_count": 4,
   "metadata": {},
   "outputs": [],
   "source": [
    "for i in range(len(sp500)):\n",
    "    # con questo prendiamo la posizione poi dobbiamo assegnarlo\n",
    "    data.iloc[data.index.get_loc(sp500.index[i]),0] = sp500.iloc[i,0]\n",
    "\n",
    "for i in range(len(gdp)):\n",
    "    data.iloc[data.index.get_loc(gdp.index[i]),1] = gdp.iloc[i,0]\n",
    "\n",
    "for i in range(len(two_ten)):\n",
    "    data.iloc[data.index.get_loc(two_ten.index[i]),2] = two_ten.iloc[i,2]\n"
   ]
  },
  {
   "cell_type": "code",
   "execution_count": 5,
   "metadata": {},
   "outputs": [],
   "source": [
    "if 0 in sp500:\n",
    "    print('y')\n",
    "    "
   ]
  },
  {
   "cell_type": "code",
   "execution_count": 6,
   "metadata": {},
   "outputs": [],
   "source": [
    "data['sp500'].fillna(method='ffill', inplace=True)\n",
    "data['gdp'].fillna(method='ffill', inplace=True)\n",
    "data['2-10'].fillna(method='ffill', inplace=True)"
   ]
  },
  {
   "cell_type": "code",
   "execution_count": 7,
   "metadata": {},
   "outputs": [
    {
     "name": "stderr",
     "output_type": "stream",
     "text": [
      "e:\\code\\10_2_curve\\.venv\\lib\\site-packages\\pandas\\core\\arraylike.py:402: RuntimeWarning: invalid value encountered in log\n",
      "  result = getattr(ufunc, method)(*inputs, **kwargs)\n"
     ]
    }
   ],
   "source": [
    "data['sp500'] = pd.DataFrame(np.log(data['sp500']/data['sp500'].shift(+1)))"
   ]
  },
  {
   "cell_type": "code",
   "execution_count": 8,
   "metadata": {},
   "outputs": [
    {
     "data": {
      "text/html": [
       "<div>\n",
       "<style scoped>\n",
       "    .dataframe tbody tr th:only-of-type {\n",
       "        vertical-align: middle;\n",
       "    }\n",
       "\n",
       "    .dataframe tbody tr th {\n",
       "        vertical-align: top;\n",
       "    }\n",
       "\n",
       "    .dataframe thead th {\n",
       "        text-align: right;\n",
       "    }\n",
       "</style>\n",
       "<table border=\"1\" class=\"dataframe\">\n",
       "  <thead>\n",
       "    <tr style=\"text-align: right;\">\n",
       "      <th></th>\n",
       "      <th>sp500</th>\n",
       "      <th>gdp</th>\n",
       "      <th>2-10</th>\n",
       "    </tr>\n",
       "  </thead>\n",
       "  <tbody>\n",
       "    <tr>\n",
       "      <th>1977-01-31</th>\n",
       "      <td>NaN</td>\n",
       "      <td>NaN</td>\n",
       "      <td>NaN</td>\n",
       "    </tr>\n",
       "    <tr>\n",
       "      <th>1977-02-01</th>\n",
       "      <td>0.004986</td>\n",
       "      <td>NaN</td>\n",
       "      <td>-0.008278</td>\n",
       "    </tr>\n",
       "    <tr>\n",
       "      <th>1977-02-02</th>\n",
       "      <td>-0.001757</td>\n",
       "      <td>NaN</td>\n",
       "      <td>-0.016765</td>\n",
       "    </tr>\n",
       "    <tr>\n",
       "      <th>1977-02-03</th>\n",
       "      <td>-0.004995</td>\n",
       "      <td>NaN</td>\n",
       "      <td>0.049474</td>\n",
       "    </tr>\n",
       "    <tr>\n",
       "      <th>1977-02-04</th>\n",
       "      <td>0.000295</td>\n",
       "      <td>NaN</td>\n",
       "      <td>0.000000</td>\n",
       "    </tr>\n",
       "    <tr>\n",
       "      <th>...</th>\n",
       "      <td>...</td>\n",
       "      <td>...</td>\n",
       "      <td>...</td>\n",
       "    </tr>\n",
       "    <tr>\n",
       "      <th>2023-02-13</th>\n",
       "      <td>0.011384</td>\n",
       "      <td>20198.091</td>\n",
       "      <td>0.046287</td>\n",
       "    </tr>\n",
       "    <tr>\n",
       "      <th>2023-02-14</th>\n",
       "      <td>-0.000280</td>\n",
       "      <td>20198.091</td>\n",
       "      <td>0.063927</td>\n",
       "    </tr>\n",
       "    <tr>\n",
       "      <th>2023-02-15</th>\n",
       "      <td>0.002769</td>\n",
       "      <td>20198.091</td>\n",
       "      <td>-0.054195</td>\n",
       "    </tr>\n",
       "    <tr>\n",
       "      <th>2023-02-16</th>\n",
       "      <td>-0.013885</td>\n",
       "      <td>20198.091</td>\n",
       "      <td>-0.059868</td>\n",
       "    </tr>\n",
       "    <tr>\n",
       "      <th>2023-02-17</th>\n",
       "      <td>-0.002771</td>\n",
       "      <td>20198.091</td>\n",
       "      <td>0.026634</td>\n",
       "    </tr>\n",
       "  </tbody>\n",
       "</table>\n",
       "<p>16819 rows × 3 columns</p>\n",
       "</div>"
      ],
      "text/plain": [
       "               sp500        gdp      2-10\n",
       "1977-01-31       NaN        NaN       NaN\n",
       "1977-02-01  0.004986        NaN -0.008278\n",
       "1977-02-02 -0.001757        NaN -0.016765\n",
       "1977-02-03 -0.004995        NaN  0.049474\n",
       "1977-02-04  0.000295        NaN  0.000000\n",
       "...              ...        ...       ...\n",
       "2023-02-13  0.011384  20198.091  0.046287\n",
       "2023-02-14 -0.000280  20198.091  0.063927\n",
       "2023-02-15  0.002769  20198.091 -0.054195\n",
       "2023-02-16 -0.013885  20198.091 -0.059868\n",
       "2023-02-17 -0.002771  20198.091  0.026634\n",
       "\n",
       "[16819 rows x 3 columns]"
      ]
     },
     "execution_count": 8,
     "metadata": {},
     "output_type": "execute_result"
    }
   ],
   "source": [
    "data"
   ]
  },
  {
   "cell_type": "code",
   "execution_count": 9,
   "metadata": {},
   "outputs": [
    {
     "data": {
      "image/png": "[encoded data removed]",
      "text/plain": [
       "<Figure size 640x480 with 2 Axes>"
      ]
     },
     "metadata": {},
     "output_type": "display_data"
    }
   ],
   "source": [
    "# Create figure and axis #1\n",
    "fig, ax1 = plt.subplots()\n",
    "# plot line chart on axis #1\n",
    "ax1.plot(data['sp500'].rolling(700).corr(data['2-10'])) \n",
    "ax1.set_ylabel('Corr')\n",
    "ax1.legend(['Corr'], loc=\"upper left\")\n",
    "# set up the 2nd axis\n",
    "ax2 = ax1.twinx()\n",
    "# plot bar chart on axis #2\n",
    "ax2.plot(data['2-10'], color='orange')\n",
    "ax2.grid(False) # turn off grid #2\n",
    "ax2.set_ylabel('SP500 return')\n",
    "ax2.legend(['SP500 return'], loc=\"upper right\")\n",
    "plt.show()"
   ]
  },
  {
   "cell_type": "code",
   "execution_count": 10,
   "metadata": {},
   "outputs": [
    {
     "data": {
      "text/html": [
       "<div>\n",
       "<style scoped>\n",
       "    .dataframe tbody tr th:only-of-type {\n",
       "        vertical-align: middle;\n",
       "    }\n",
       "\n",
       "    .dataframe tbody tr th {\n",
       "        vertical-align: top;\n",
       "    }\n",
       "\n",
       "    .dataframe thead th {\n",
       "        text-align: right;\n",
       "    }\n",
       "</style>\n",
       "<table border=\"1\" class=\"dataframe\">\n",
       "  <thead>\n",
       "    <tr style=\"text-align: right;\">\n",
       "      <th></th>\n",
       "      <th>sp500</th>\n",
       "      <th>gdp</th>\n",
       "      <th>2-10</th>\n",
       "    </tr>\n",
       "  </thead>\n",
       "  <tbody>\n",
       "    <tr>\n",
       "      <th>1977-01-31</th>\n",
       "      <td>NaN</td>\n",
       "      <td>NaN</td>\n",
       "      <td>NaN</td>\n",
       "    </tr>\n",
       "    <tr>\n",
       "      <th>1977-02-01</th>\n",
       "      <td>0.004986</td>\n",
       "      <td>NaN</td>\n",
       "      <td>-0.008278</td>\n",
       "    </tr>\n",
       "    <tr>\n",
       "      <th>1977-02-02</th>\n",
       "      <td>-0.001757</td>\n",
       "      <td>NaN</td>\n",
       "      <td>-0.016765</td>\n",
       "    </tr>\n",
       "    <tr>\n",
       "      <th>1977-02-03</th>\n",
       "      <td>-0.004995</td>\n",
       "      <td>NaN</td>\n",
       "      <td>0.049474</td>\n",
       "    </tr>\n",
       "    <tr>\n",
       "      <th>1977-02-04</th>\n",
       "      <td>0.000295</td>\n",
       "      <td>NaN</td>\n",
       "      <td>0.000000</td>\n",
       "    </tr>\n",
       "    <tr>\n",
       "      <th>...</th>\n",
       "      <td>...</td>\n",
       "      <td>...</td>\n",
       "      <td>...</td>\n",
       "    </tr>\n",
       "    <tr>\n",
       "      <th>2023-02-13</th>\n",
       "      <td>0.011384</td>\n",
       "      <td>20198.091</td>\n",
       "      <td>0.046287</td>\n",
       "    </tr>\n",
       "    <tr>\n",
       "      <th>2023-02-14</th>\n",
       "      <td>-0.000280</td>\n",
       "      <td>20198.091</td>\n",
       "      <td>0.063927</td>\n",
       "    </tr>\n",
       "    <tr>\n",
       "      <th>2023-02-15</th>\n",
       "      <td>0.002769</td>\n",
       "      <td>20198.091</td>\n",
       "      <td>-0.054195</td>\n",
       "    </tr>\n",
       "    <tr>\n",
       "      <th>2023-02-16</th>\n",
       "      <td>-0.013885</td>\n",
       "      <td>20198.091</td>\n",
       "      <td>-0.059868</td>\n",
       "    </tr>\n",
       "    <tr>\n",
       "      <th>2023-02-17</th>\n",
       "      <td>-0.002771</td>\n",
       "      <td>20198.091</td>\n",
       "      <td>0.026634</td>\n",
       "    </tr>\n",
       "  </tbody>\n",
       "</table>\n",
       "<p>16819 rows × 3 columns</p>\n",
       "</div>"
      ],
      "text/plain": [
       "               sp500        gdp      2-10\n",
       "1977-01-31       NaN        NaN       NaN\n",
       "1977-02-01  0.004986        NaN -0.008278\n",
       "1977-02-02 -0.001757        NaN -0.016765\n",
       "1977-02-03 -0.004995        NaN  0.049474\n",
       "1977-02-04  0.000295        NaN  0.000000\n",
       "...              ...        ...       ...\n",
       "2023-02-13  0.011384  20198.091  0.046287\n",
       "2023-02-14 -0.000280  20198.091  0.063927\n",
       "2023-02-15  0.002769  20198.091 -0.054195\n",
       "2023-02-16 -0.013885  20198.091 -0.059868\n",
       "2023-02-17 -0.002771  20198.091  0.026634\n",
       "\n",
       "[16819 rows x 3 columns]"
      ]
     },
     "execution_count": 10,
     "metadata": {},
     "output_type": "execute_result"
    }
   ],
   "source": [
    "data"
   ]
  },
  {
   "cell_type": "code",
   "execution_count": 11,
   "metadata": {},
   "outputs": [
    {
     "data": {
      "text/html": [
       "<div>\n",
       "<style scoped>\n",
       "    .dataframe tbody tr th:only-of-type {\n",
       "        vertical-align: middle;\n",
       "    }\n",
       "\n",
       "    .dataframe tbody tr th {\n",
       "        vertical-align: top;\n",
       "    }\n",
       "\n",
       "    .dataframe thead th {\n",
       "        text-align: right;\n",
       "    }\n",
       "</style>\n",
       "<table border=\"1\" class=\"dataframe\">\n",
       "  <thead>\n",
       "    <tr style=\"text-align: right;\">\n",
       "      <th></th>\n",
       "      <th>sp500</th>\n",
       "      <th>gdp</th>\n",
       "      <th>2-10</th>\n",
       "    </tr>\n",
       "  </thead>\n",
       "  <tbody>\n",
       "    <tr>\n",
       "      <th>sp500</th>\n",
       "      <td>1.000000</td>\n",
       "      <td>-0.099554</td>\n",
       "      <td>-0.010870</td>\n",
       "    </tr>\n",
       "    <tr>\n",
       "      <th>gdp</th>\n",
       "      <td>-0.099554</td>\n",
       "      <td>1.000000</td>\n",
       "      <td>0.019806</td>\n",
       "    </tr>\n",
       "    <tr>\n",
       "      <th>2-10</th>\n",
       "      <td>-0.010870</td>\n",
       "      <td>0.019806</td>\n",
       "      <td>1.000000</td>\n",
       "    </tr>\n",
       "  </tbody>\n",
       "</table>\n",
       "</div>"
      ],
      "text/plain": [
       "          sp500       gdp      2-10\n",
       "sp500  1.000000 -0.099554 -0.010870\n",
       "gdp   -0.099554  1.000000  0.019806\n",
       "2-10  -0.010870  0.019806  1.000000"
      ]
     },
     "execution_count": 11,
     "metadata": {},
     "output_type": "execute_result"
    }
   ],
   "source": [
    "data.loc['1980-03-20':'1980-09-20'].corr()\n"
   ]
  },
  {
   "cell_type": "code",
   "execution_count": 12,
   "metadata": {},
   "outputs": [
    {
     "name": "stderr",
     "output_type": "stream",
     "text": [
      "C:\\Users\\SUH3221\\AppData\\Local\\Temp\\1\\ipykernel_2564\\4201262313.py:23: FutureWarning: The frame.append method is deprecated and will be removed from pandas in a future version. Use pandas.concat instead.\n",
      "  correl.append(pd.DataFrame(correl.mean(), columns=['Average']).T, ignore_index=False)\n"
     ]
    },
    {
     "data": {
      "text/html": [
       "<div>\n",
       "<style scoped>\n",
       "    .dataframe tbody tr th:only-of-type {\n",
       "        vertical-align: middle;\n",
       "    }\n",
       "\n",
       "    .dataframe tbody tr th {\n",
       "        vertical-align: top;\n",
       "    }\n",
       "\n",
       "    .dataframe thead th {\n",
       "        text-align: right;\n",
       "    }\n",
       "</style>\n",
       "<table border=\"1\" class=\"dataframe\">\n",
       "  <thead>\n",
       "    <tr style=\"text-align: right;\">\n",
       "      <th></th>\n",
       "      <th>SP500 6m</th>\n",
       "      <th>SP500 1y</th>\n",
       "    </tr>\n",
       "  </thead>\n",
       "  <tbody>\n",
       "    <tr>\n",
       "      <th>1980-03-20</th>\n",
       "      <td>-0.010870</td>\n",
       "      <td>-0.049553</td>\n",
       "    </tr>\n",
       "    <tr>\n",
       "      <th>1981-05-21</th>\n",
       "      <td>0.147642</td>\n",
       "      <td>0.156056</td>\n",
       "    </tr>\n",
       "    <tr>\n",
       "      <th>1989-03-30</th>\n",
       "      <td>-0.055449</td>\n",
       "      <td>-0.190672</td>\n",
       "    </tr>\n",
       "    <tr>\n",
       "      <th>2000-04-09</th>\n",
       "      <td>0.050505</td>\n",
       "      <td>-0.022867</td>\n",
       "    </tr>\n",
       "    <tr>\n",
       "      <th>2006-11-16</th>\n",
       "      <td>0.308832</td>\n",
       "      <td>0.009373</td>\n",
       "    </tr>\n",
       "    <tr>\n",
       "      <th>2019-08-27</th>\n",
       "      <td>0.014990</td>\n",
       "      <td>0.171862</td>\n",
       "    </tr>\n",
       "    <tr>\n",
       "      <th>Average</th>\n",
       "      <td>0.075942</td>\n",
       "      <td>0.012366</td>\n",
       "    </tr>\n",
       "  </tbody>\n",
       "</table>\n",
       "</div>"
      ],
      "text/plain": [
       "            SP500 6m  SP500 1y\n",
       "1980-03-20 -0.010870 -0.049553\n",
       "1981-05-21  0.147642  0.156056\n",
       "1989-03-30 -0.055449 -0.190672\n",
       "2000-04-09  0.050505 -0.022867\n",
       "2006-11-16  0.308832  0.009373\n",
       "2019-08-27  0.014990  0.171862\n",
       "Average     0.075942  0.012366"
      ]
     },
     "execution_count": 12,
     "metadata": {},
     "output_type": "execute_result"
    }
   ],
   "source": [
    "correl = pd.DataFrame(\n",
    "    {\n",
    "        'SP500 6m': [\n",
    "            data.loc['1980-03-20':'1980-09-20'].corr().iloc[0,2],          \n",
    "            data.loc['1981-05-21':'1981-11-21'].corr().iloc[0,2],\n",
    "            data.loc['1989-03-30':'1989-09-30'].corr().iloc[0,2],\n",
    "            data.loc['2000-04-09':'2000-10-09'].corr().iloc[0,2],\n",
    "            data.loc['2006-11-16':'2007-05-09'].corr().iloc[0,2],\n",
    "            data.loc['2019-08-27':'2020-02-27'].corr().iloc[0,2]\n",
    "        ],\n",
    "        'SP500 1y': [\n",
    "            data.loc['1980-03-20':'1981-03-20'].corr().iloc[0,2],          \n",
    "            data.loc['1981-05-21':'1982-05-21'].corr().iloc[0,2],\n",
    "            data.loc['1989-03-30':'1990-03-30'].corr().iloc[0,2],\n",
    "            data.loc['2000-04-09':'2001-04-09'].corr().iloc[0,2],\n",
    "            data.loc['2006-11-16':'2007-11-09'].corr().iloc[0,2],\n",
    "            data.loc['2019-08-27':'2020-06-27'].corr().iloc[0,2]\n",
    "        ]\n",
    "    }, index= ('1980-03-20','1981-05-21','1989-03-30','2000-04-09','2006-11-16','2019-08-27')\n",
    ")\n",
    "\n",
    "\n",
    "correl.append(pd.DataFrame(correl.mean(), columns=['Average']).T, ignore_index=False)"
   ]
  },
  {
   "cell_type": "code",
   "execution_count": 13,
   "metadata": {},
   "outputs": [
    {
     "data": {
      "text/html": [
       "<div>\n",
       "<style scoped>\n",
       "    .dataframe tbody tr th:only-of-type {\n",
       "        vertical-align: middle;\n",
       "    }\n",
       "\n",
       "    .dataframe tbody tr th {\n",
       "        vertical-align: top;\n",
       "    }\n",
       "\n",
       "    .dataframe thead th {\n",
       "        text-align: right;\n",
       "    }\n",
       "</style>\n",
       "<table border=\"1\" class=\"dataframe\">\n",
       "  <thead>\n",
       "    <tr style=\"text-align: right;\">\n",
       "      <th></th>\n",
       "      <th>2-10</th>\n",
       "    </tr>\n",
       "  </thead>\n",
       "  <tbody>\n",
       "    <tr>\n",
       "      <th>sp500</th>\n",
       "      <td>0.018892</td>\n",
       "    </tr>\n",
       "    <tr>\n",
       "      <th>gdp</th>\n",
       "      <td>-0.019592</td>\n",
       "    </tr>\n",
       "  </tbody>\n",
       "</table>\n",
       "</div>"
      ],
      "text/plain": [
       "           2-10\n",
       "sp500  0.018892\n",
       "gdp   -0.019592"
      ]
     },
     "execution_count": 13,
     "metadata": {},
     "output_type": "execute_result"
    }
   ],
   "source": [
    "pd.DataFrame((data.loc['1978-08-18':'1980-05-01'].corr().iloc[:2,2]))\n"
   ]
  },
  {
   "cell_type": "code",
   "execution_count": 14,
   "metadata": {},
   "outputs": [
    {
     "data": {
      "text/html": [
       "<div>\n",
       "<style scoped>\n",
       "    .dataframe tbody tr th:only-of-type {\n",
       "        vertical-align: middle;\n",
       "    }\n",
       "\n",
       "    .dataframe tbody tr th {\n",
       "        vertical-align: top;\n",
       "    }\n",
       "\n",
       "    .dataframe thead th {\n",
       "        text-align: right;\n",
       "    }\n",
       "</style>\n",
       "<table border=\"1\" class=\"dataframe\">\n",
       "  <thead>\n",
       "    <tr style=\"text-align: right;\">\n",
       "      <th></th>\n",
       "      <th>2-10</th>\n",
       "    </tr>\n",
       "  </thead>\n",
       "  <tbody>\n",
       "    <tr>\n",
       "      <th>sp500</th>\n",
       "      <td>-0.047645</td>\n",
       "    </tr>\n",
       "    <tr>\n",
       "      <th>gdp</th>\n",
       "      <td>-0.006999</td>\n",
       "    </tr>\n",
       "  </tbody>\n",
       "</table>\n",
       "</div>"
      ],
      "text/plain": [
       "           2-10\n",
       "sp500 -0.047645\n",
       "gdp   -0.006999"
      ]
     },
     "execution_count": 14,
     "metadata": {},
     "output_type": "execute_result"
    }
   ],
   "source": [
    "pd.DataFrame((data.loc['1980-05-01':'1981-05-01'].corr().iloc[:2,2]))"
   ]
  }
 ],
 "metadata": {
  "kernelspec": {
   "display_name": "Python 3.10.2 ('.venv': venv)",
   "language": "python",
   "name": "python3"
  },
  "language_info": {
   "codemirror_mode": {
    "name": "ipython",
    "version": 3
   },
   "file_extension": ".py",
   "mimetype": "text/x-python",
   "name": "python",
   "nbconvert_exporter": "python",
   "pygments_lexer": "ipython3",
   "version": "3.10.2"
  },
  "orig_nbformat": 4,
  "vscode": {
   "interpreter": {
    "hash": "b0961345bc4a15f2376a8f9d063afba8a01f6458e347be39cb3c83b8bdeaa833"
   }
  }
 },
 "nbformat": 4,
 "nbformat_minor": 2
}
